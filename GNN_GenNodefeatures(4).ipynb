{
  "cells": [
    {
      "cell_type": "code",
      "execution_count": null,
      "metadata": {
        "id": "8QdpGwvJ-C_L"
      },
      "outputs": [],
      "source": [
        "from google.colab import drive\n",
        "drive.mount('/content/drive')"
      ]
    },
    {
      "cell_type": "code",
      "execution_count": null,
      "metadata": {
        "id": "hjpfMgdk9GDM"
      },
      "outputs": [],
      "source": [
        "import networkx as nx\n",
        "import json\n",
        "import pandas as pd\n",
        "import torch\n",
        "import os\n",
        "from sklearn.model_selection import train_test_split\n",
        "import torch.nn.functional as F\n",
        "import numpy as np\n",
        "print(torch.__version__)\n",
        "\n",
        "# The PyG built-in GCNConv\n"
      ]
    },
    {
      "cell_type": "code",
      "execution_count": null,
      "metadata": {
        "id": "Fm1TpYx5D9En"
      },
      "outputs": [],
      "source": [
        "# Install torch geometric\n",
        "if 'IS_GRADESCOPE_ENV' not in os.environ:\n",
        "  !pip install torch-scatter -f https://pytorch-geometric.com/whl/torch-1.13.1+cu116.html\n",
        "  !pip install torch-sparse -f https://pytorch-geometric.com/whl/torch-1.13.1+cu116.html\n",
        "  !pip install torch-geometric\n",
        "  !pip install ogb\n",
        "\n",
        "!pip install node2vec"
      ]
    },
    {
      "cell_type": "code",
      "execution_count": null,
      "metadata": {
        "id": "LKz4CUhVEdYt"
      },
      "outputs": [],
      "source": [
        "from torch_geometric.loader import DataLoader\n",
        "from torch_geometric.data import Data\n",
        "from tqdm import tqdm\n",
        "from node2vec import Node2Vec\n",
        "from torch_geometric.nn import GCNConv\n",
        "\n",
        "import torch_geometric.transforms as T\n",
        "from ogb.nodeproppred import PygNodePropPredDataset, Evaluator"
      ]
    },
    {
      "cell_type": "code",
      "execution_count": null,
      "metadata": {
        "id": "FzNTtIlB9fvs"
      },
      "outputs": [],
      "source": [
        "# /content/drive/MyDrive/CS286-Reddit/reddit_edges.json\n",
        "# /content/drive/MyDrive/CS286-Reddit/reddit_target.csv"
      ]
    },
    {
      "cell_type": "code",
      "execution_count": 5,
      "metadata": {
        "id": "FsMUXwuW_F4d"
      },
      "outputs": [],
      "source": [
        "f = open('/content/drive/MyDrive/CS286-Reddit/reddit_edges.json')\n",
        "content = json.load(f)\n",
        "df = pd.read_csv('/content/drive/MyDrive/CS286-Reddit/reddit_target.csv')\n",
        "\n",
        "G_list = list(content.values())\n",
        "Gs = [nx.Graph(i) for i in G_list[0:1000]]\n",
        "y = list(df.target)[0:1000]"
      ]
    },
    {
      "cell_type": "code",
      "execution_count": null,
      "metadata": {
        "id": "Mt7SZKUEHPqS"
      },
      "outputs": [],
      "source": [
        "emb_list = []\n",
        "for i in Gs:\n",
        "  node2vec = Node2Vec(i, dimensions=128, walk_length=10, num_walks=150)\n",
        "  model = node2vec.fit(window=10)\n",
        "  v = torch.tensor(model.wv.vectors, dtype=torch.float)\n",
        "  emb_list.append(v)\n",
        "# torch.save(emb_list,'/content/drive/MyDrive/CS286-Reddit/node2vec_embedding.pt')"
      ]
    },
    {
      "cell_type": "code",
      "source": [
        "# emb_list = torch.load('/content/drive/MyDrive/CS286-Reddit/node2vec_embedding.pt')"
      ],
      "metadata": {
        "id": "1iG5WGNS8k2F"
      },
      "execution_count": null,
      "outputs": []
    },
    {
      "cell_type": "code",
      "execution_count": 18,
      "metadata": {
        "id": "dWhc-gw5fGET"
      },
      "outputs": [],
      "source": [
        "y = torch.tensor([[i] for i in y])"
      ]
    },
    {
      "cell_type": "code",
      "execution_count": 19,
      "metadata": {
        "id": "M-iZ-UJ2KNc5"
      },
      "outputs": [],
      "source": [
        "edge_indices = []\n",
        "for i in G_list[0:1000]:\n",
        "  edge_indices.append(torch.tensor(i, dtype=torch.long).T)\n",
        "# torch.save(edge_indices,'/content/drive/MyDrive/CS286-Reddit/edge_indices.pt')"
      ]
    },
    {
      "cell_type": "code",
      "execution_count": 20,
      "metadata": {
        "id": "sX5w8eBrRX9t"
      },
      "outputs": [],
      "source": [
        "raw_data = list(zip(*(emb_list,edge_indices,y)))"
      ]
    },
    {
      "cell_type": "code",
      "execution_count": 21,
      "metadata": {
        "id": "r0ZOluoASACO"
      },
      "outputs": [],
      "source": [
        "data = []\n",
        "for i in raw_data:\n",
        "  data.append(Data(x=i[0], y=i[2], edge_index=i[1]))"
      ]
    },
    {
      "cell_type": "code",
      "execution_count": 22,
      "metadata": {
        "id": "mqQf7gTmTuHq"
      },
      "outputs": [],
      "source": [
        "trainset, testset= train_test_split(data, test_size=0.25, random_state=42)\n",
        "# trainset, valset= train_test_split(trainset, test_size=0.2, random_state=42)"
      ]
    },
    {
      "cell_type": "code",
      "execution_count": 23,
      "metadata": {
        "id": "XMXm4WiNBDEU"
      },
      "outputs": [],
      "source": [
        "train_loader = DataLoader(trainset, batch_size=16, shuffle=True, num_workers=0)\n",
        "# valid_loader = DataLoader(valset, batch_size=32, shuffle=False, num_workers=0)\n",
        "test_loader = DataLoader(testset, batch_size=16, shuffle=False, num_workers=0)"
      ]
    },
    {
      "cell_type": "code",
      "source": [
        "from torch.nn import Linear\n",
        "import torch.nn.functional as F\n",
        "from torch_geometric.nn import GCNConv, GraphConv\n",
        "from torch_geometric.nn import global_mean_pool, global_add_pool, global_max_pool\n",
        "\n",
        "\n",
        "class GCN(torch.nn.Module):\n",
        "    def __init__(self, hidden_channels):\n",
        "        super(GCN, self).__init__()\n",
        "        torch.manual_seed(123)\n",
        "        self.conv1 = GraphConv(128, hidden_channels)\n",
        "        self.bn1 = torch.nn.BatchNorm1d(hidden_channels)\n",
        "        self.conv2 = GraphConv(hidden_channels, hidden_channels)\n",
        "        self.bn2 = torch.nn.BatchNorm1d(hidden_channels)\n",
        "        # self.conv3 = GraphConv(hidden_channels, hidden_channels)\n",
        "        # self.bn3 = torch.nn.BatchNorm1d(hidden_channels)\n",
        "        self.hidden1 = Linear(hidden_channels, hidden_channels)\n",
        "        self.re1 = torch.nn.ReLU()\n",
        "        self.hidden2 = Linear(hidden_channels, hidden_channels)\n",
        "        self.re2 = torch.nn.ReLU()\n",
        "        self.lin = Linear(hidden_channels, 2)\n",
        "\n",
        "    def forward(self, x, edge_index, batch):\n",
        "        # 1. Obtain node embeddings \n",
        "        x = self.conv1(x, edge_index)\n",
        "        x = self.bn1(x)\n",
        "        x = x.relu()\n",
        "        x = self.conv2(x, edge_index)\n",
        "        x = self.bn2(x)\n",
        "        x = x.relu()\n",
        "        # x = self.conv3(x, edge_index)\n",
        "        # x = self.bn3(x)\n",
        "        # x = x.relu()\n",
        "        # 2. Readout layer\n",
        "        x = global_mean_pool(x, batch)  # [batch_size, hidden_channels]\n",
        "\n",
        "        # 3. Apply a final classifier\n",
        "        x = F.dropout(x, p=0.5, training=self.training)\n",
        "        x = self.hidden1(x)\n",
        "        x = self.re1(x)\n",
        "        x = self.hidden2(x)\n",
        "        x = self.re2(x)\n",
        "        x = self.lin(x)\n",
        "        \n",
        "        return x\n",
        "\n",
        "model = GCN(hidden_channels=256)\n",
        "print(model)"
      ],
      "metadata": {
        "id": "mYGe_x0F8b2k"
      },
      "execution_count": null,
      "outputs": []
    },
    {
      "cell_type": "code",
      "source": [
        "from IPython.display import Javascript\n",
        "display(Javascript('''google.colab.output.setIframeHeight(0, true, {maxHeight: 300})'''))\n",
        "\n",
        "model = GCN(hidden_channels=256)\n",
        "optimizer = torch.optim.Adam(model.parameters(), lr=1e-5)\n",
        "criterion = torch.nn.CrossEntropyLoss()\n",
        "\n",
        "def train():\n",
        "    model.train()\n",
        "\n",
        "    for data in train_loader:  # Iterate in batches over the training dataset.\n",
        "         out = model(data.x, data.edge_index, data.batch)  # Perform a single forward pass.\n",
        "         loss = criterion(out, data.y)  # Compute the loss.\n",
        "         loss.backward()  # Derive gradients.\n",
        "         optimizer.step()  # Update parameters based on gradients.\n",
        "         optimizer.zero_grad()  # Clear gradients.\n",
        "\n",
        "def test(loader):\n",
        "     model.eval()\n",
        "\n",
        "     correct = 0\n",
        "     for data in loader:  # Iterate in batches over the training/test dataset.\n",
        "         out = model(data.x, data.edge_index, data.batch)  \n",
        "         pred = out.argmax(dim=1)  # Use the class with highest probability.\n",
        "         correct += int((pred == data.y).sum())  # Check against ground-truth labels.\n",
        "     return correct / len(loader.dataset)  # Derive ratio of correct predictions.\n",
        "\n",
        "\n",
        "for epoch in range(1, 120):\n",
        "    train()\n",
        "    train_acc = test(train_loader)\n",
        "    test_acc = test(test_loader)\n",
        "    print(f'Epoch: {epoch:03d}, Train Acc: {train_acc:.4f}, Test Acc: {test_acc:.4f}')"
      ],
      "metadata": {
        "id": "RD_4_h-h9Xxn"
      },
      "execution_count": null,
      "outputs": []
    },
    {
      "cell_type": "code",
      "execution_count": null,
      "metadata": {
        "id": "kGTlQ73mgOs8"
      },
      "outputs": [],
      "source": []
    }
  ],
  "metadata": {
    "accelerator": "GPU",
    "colab": {
      "machine_shape": "hm",
      "provenance": []
    },
    "gpuClass": "premium",
    "kernelspec": {
      "display_name": "Python 3",
      "name": "python3"
    },
    "language_info": {
      "name": "python"
    }
  },
  "nbformat": 4,
  "nbformat_minor": 0
}